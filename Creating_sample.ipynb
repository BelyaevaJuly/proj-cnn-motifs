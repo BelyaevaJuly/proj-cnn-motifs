{
 "cells": [
  {
   "cell_type": "markdown",
   "metadata": {},
   "source": [
    "# Some shit with randomization"
   ]
  },
  {
   "cell_type": "markdown",
   "metadata": {},
   "source": [
    "I used numbers to get 10 families with <=5 sequences"
   ]
  },
  {
   "cell_type": "code",
   "execution_count": 109,
   "metadata": {},
   "outputs": [],
   "source": [
    "import os"
   ]
  },
  {
   "cell_type": "code",
   "execution_count": 115,
   "metadata": {},
   "outputs": [
    {
     "name": "stdout",
     "output_type": "stream",
     "text": [
      "/home/julybel/py_proj/families\r\n"
     ]
    }
   ],
   "source": [
    "#os.chdir(\"./..\")\n",
    "#!pwd"
   ]
  },
  {
   "cell_type": "markdown",
   "metadata": {},
   "source": [
    "##### Choose the numbers of families"
   ]
  },
  {
   "cell_type": "code",
   "execution_count": 116,
   "metadata": {},
   "outputs": [
    {
     "name": "stdout",
     "output_type": "stream",
     "text": [
      "Print number RANGE3115\n",
      "Print size of the sample10\n"
     ]
    }
   ],
   "source": [
    "gen_range, numbers, amount_of_fam = int(input('Print number RANGE')), [], int(input('Print size of the sample'))\n",
    "\n",
    "while amount_of_fam > 0:\n",
    "    number = random.randint(1, gen_range)\n",
    "    if number not in numbers:\n",
    "        numbers.append(number)\n",
    "        amount_of_fam -= 1"
   ]
  },
  {
   "cell_type": "markdown",
   "metadata": {},
   "source": [
    "##### Downloading files"
   ]
  },
  {
   "cell_type": "code",
   "execution_count": 117,
   "metadata": {},
   "outputs": [
    {
     "name": "stdout",
     "output_type": "stream",
     "text": [
      "--2019-05-04 18:04:25--  ftp://ftp.ebi.ac.uk/pub/databases/Rfam/14.1/fasta_files/RF00176.fa.gz\n",
      "           => «./newfiles/RF00176.fa.gz»\n",
      "Распознаётся ftp.ebi.ac.uk (ftp.ebi.ac.uk)… 193.62.192.4\n",
      "Подключение к ftp.ebi.ac.uk (ftp.ebi.ac.uk)|193.62.192.4|:21... соединение установлено.\n",
      "Выполняется вход под именем anonymous … Выполнен вход в систему!\n",
      "==> SYST ... готово.    ==> PWD ... готово.\n",
      "==> TYPE I ... готово.  ==> CWD (1) /pub/databases/Rfam/14.1/fasta_files ... готово.\n",
      "==> SIZE RF00176.fa.gz ... 1051\n",
      "==> PASV ... готово.    ==> RETR RF00176.fa.gz ... готово.\n",
      "Размер (байт): 1051 (1,0K) (не достоверно)\n",
      "\n",
      "RF00176.fa.gz       100%[===================>]   1,03K  --.-KB/s    за 0,003s  \n",
      "\n",
      "2019-05-04 18:04:27 (324 KB/s) - «./newfiles/RF00176.fa.gz» сохранён [1051]\n",
      "\n",
      "--2019-05-04 18:04:27--  ftp://ftp.ebi.ac.uk/pub/databases/Rfam/14.1/fasta_files/RF00305.fa.gz\n",
      "           => «./newfiles/RF00305.fa.gz»\n",
      "Подключение к ftp.ebi.ac.uk (ftp.ebi.ac.uk)|193.62.192.4|:21... соединение установлено.\n",
      "Выполняется вход под именем anonymous … Выполнен вход в систему!\n",
      "==> SYST ... готово.    ==> PWD ... готово.\n",
      "==> TYPE I ... готово.  ==> CWD (1) /pub/databases/Rfam/14.1/fasta_files ... готово.\n",
      "==> SIZE RF00305.fa.gz ... 858\n",
      "==> PASV ... готово.    ==> RETR RF00305.fa.gz ... готово.\n",
      "Размер (байт): 858 (не достоверно)\n",
      "\n",
      "RF00305.fa.gz       100%[===================>]     858  --.-KB/s    за 0,005s  \n",
      "\n",
      "2019-05-04 18:04:27 (171 KB/s) - «./newfiles/RF00305.fa.gz» сохранён [858]\n",
      "\n",
      "--2019-05-04 18:04:27--  ftp://ftp.ebi.ac.uk/pub/databases/Rfam/14.1/fasta_files/RF01485.fa.gz\n",
      "           => «./newfiles/RF01485.fa.gz»\n",
      "Подключение к ftp.ebi.ac.uk (ftp.ebi.ac.uk)|193.62.192.4|:21... соединение установлено.\n",
      "Выполняется вход под именем anonymous … Выполнен вход в систему!\n",
      "==> SYST ... готово.    ==> PWD ... готово.\n",
      "==> TYPE I ... готово.  ==> CWD (1) /pub/databases/Rfam/14.1/fasta_files ... готово.\n",
      "==> SIZE RF01485.fa.gz ... 791\n",
      "==> PASV ... готово.    ==> RETR RF01485.fa.gz ... готово.\n",
      "Размер (байт): 791 (не достоверно)\n",
      "\n",
      "RF01485.fa.gz       100%[===================>]     791  --.-KB/s    за 0s      \n",
      "\n",
      "2019-05-04 18:04:28 (89,0 MB/s) - «./newfiles/RF01485.fa.gz» сохранён [791]\n",
      "\n",
      "--2019-05-04 18:04:28--  ftp://ftp.ebi.ac.uk/pub/databases/Rfam/14.1/fasta_files/RF00236.fa.gz\n",
      "           => «./newfiles/RF00236.fa.gz»\n",
      "Подключение к ftp.ebi.ac.uk (ftp.ebi.ac.uk)|193.62.192.4|:21... соединение установлено.\n",
      "Выполняется вход под именем anonymous … Выполнен вход в систему!\n",
      "==> SYST ... готово.    ==> PWD ... готово.\n",
      "==> TYPE I ... готово.  ==> CWD (1) /pub/databases/Rfam/14.1/fasta_files ... готово.\n",
      "==> SIZE RF00236.fa.gz ... 1656\n",
      "==> PASV ... готово.    ==> RETR RF00236.fa.gz ... готово.\n",
      "Размер (байт): 1656 (1,6K) (не достоверно)\n",
      "\n",
      "RF00236.fa.gz       100%[===================>]   1,62K  --.-KB/s    за 0,02s   \n",
      "\n",
      "2019-05-04 18:04:29 (66,9 KB/s) - «./newfiles/RF00236.fa.gz» сохранён [1656]\n",
      "\n",
      "--2019-05-04 18:04:29--  ftp://ftp.ebi.ac.uk/pub/databases/Rfam/14.1/fasta_files/RF00303.fa.gz\n",
      "           => «./newfiles/RF00303.fa.gz»\n",
      "Подключение к ftp.ebi.ac.uk (ftp.ebi.ac.uk)|193.62.192.4|:21... соединение установлено.\n",
      "Выполняется вход под именем anonymous … Выполнен вход в систему!\n",
      "==> SYST ... готово.    ==> PWD ... готово.\n",
      "==> TYPE I ... готово.  ==> CWD (1) /pub/databases/Rfam/14.1/fasta_files ... готово.\n",
      "==> SIZE RF00303.fa.gz ... 12981\n",
      "==> PASV ... готово.    ==> RETR RF00303.fa.gz ... готово.\n",
      "Размер (байт): 12981 (13K) (не достоверно)\n",
      "\n",
      "RF00303.fa.gz       100%[===================>]  12,68K  --.-KB/s    за 0,01s   \n",
      "\n",
      "2019-05-04 18:04:30 (981 KB/s) - «./newfiles/RF00303.fa.gz» сохранён [12981]\n",
      "\n",
      "--2019-05-04 18:04:30--  ftp://ftp.ebi.ac.uk/pub/databases/Rfam/14.1/fasta_files/RF00600.fa.gz\n",
      "           => «./newfiles/RF00600.fa.gz»\n",
      "Подключение к ftp.ebi.ac.uk (ftp.ebi.ac.uk)|193.62.192.4|:21... соединение установлено.\n",
      "Выполняется вход под именем anonymous … Выполнен вход в систему!\n",
      "==> SYST ... готово.    ==> PWD ... готово.\n",
      "==> TYPE I ... готово.  ==> CWD (1) /pub/databases/Rfam/14.1/fasta_files ... готово.\n",
      "==> SIZE RF00600.fa.gz ... 11695\n",
      "==> PASV ... готово.    ==> RETR RF00600.fa.gz ... готово.\n",
      "Размер (байт): 11695 (11K) (не достоверно)\n",
      "\n",
      "RF00600.fa.gz       100%[===================>]  11,42K  --.-KB/s    за 0,009s  \n",
      "\n",
      "2019-05-04 18:04:31 (1,31 MB/s) - «./newfiles/RF00600.fa.gz» сохранён [11695]\n",
      "\n",
      "--2019-05-04 18:04:31--  ftp://ftp.ebi.ac.uk/pub/databases/Rfam/14.1/fasta_files/RF01985.fa.gz\n",
      "           => «./newfiles/RF01985.fa.gz»\n",
      "Подключение к ftp.ebi.ac.uk (ftp.ebi.ac.uk)|193.62.192.4|:21... соединение установлено.\n",
      "Выполняется вход под именем anonymous … Выполнен вход в систему!\n",
      "==> SYST ... готово.    ==> PWD ... готово.\n",
      "==> TYPE I ... готово.  ==> CWD (1) /pub/databases/Rfam/14.1/fasta_files ... готово.\n",
      "==> SIZE RF01985.fa.gz ... 2113\n",
      "==> PASV ... готово.    ==> RETR RF01985.fa.gz ... готово.\n",
      "Размер (байт): 2113 (2,1K) (не достоверно)\n",
      "\n",
      "RF01985.fa.gz       100%[===================>]   2,06K  --.-KB/s    за 0,01s   \n",
      "\n",
      "2019-05-04 18:04:32 (144 KB/s) - «./newfiles/RF01985.fa.gz» сохранён [2113]\n",
      "\n",
      "--2019-05-04 18:04:32--  ftp://ftp.ebi.ac.uk/pub/databases/Rfam/14.1/fasta_files/RF02534.fa.gz\n",
      "           => «./newfiles/RF02534.fa.gz»\n",
      "Подключение к ftp.ebi.ac.uk (ftp.ebi.ac.uk)|193.62.192.4|:21... соединение установлено.\n",
      "Выполняется вход под именем anonymous … Выполнен вход в систему!\n",
      "==> SYST ... готово.    ==> PWD ... готово.\n",
      "==> TYPE I ... готово.  ==> CWD (1) /pub/databases/Rfam/14.1/fasta_files ... готово.\n",
      "==> SIZE RF02534.fa.gz ... 1176\n",
      "==> PASV ... готово.    ==> RETR RF02534.fa.gz ... готово.\n",
      "Размер (байт): 1176 (1,1K) (не достоверно)\n",
      "\n",
      "RF02534.fa.gz       100%[===================>]   1,15K  --.-KB/s    за 0,01s   \n",
      "\n",
      "2019-05-04 18:04:33 (119 KB/s) - «./newfiles/RF02534.fa.gz» сохранён [1176]\n",
      "\n",
      "--2019-05-04 18:04:33--  ftp://ftp.ebi.ac.uk/pub/databases/Rfam/14.1/fasta_files/RF00267.fa.gz\n",
      "           => «./newfiles/RF00267.fa.gz»\n",
      "Подключение к ftp.ebi.ac.uk (ftp.ebi.ac.uk)|193.62.192.4|:21... соединение установлено.\n",
      "Выполняется вход под именем anonymous … Выполнен вход в систему!\n",
      "==> SYST ... готово.    ==> PWD ... готово.\n",
      "==> TYPE I ... готово.  ==> CWD (1) /pub/databases/Rfam/14.1/fasta_files ... готово.\n",
      "==> SIZE RF00267.fa.gz ... 13419\n",
      "==> PASV ... готово.    ==> RETR RF00267.fa.gz ... готово.\n",
      "Размер (байт): 13419 (13K) (не достоверно)\n",
      "\n",
      "RF00267.fa.gz       100%[===================>]  13,10K  --.-KB/s    за 0,01s   \n",
      "\n",
      "2019-05-04 18:04:34 (1,07 MB/s) - «./newfiles/RF00267.fa.gz» сохранён [13419]\n",
      "\n",
      "--2019-05-04 18:04:34--  ftp://ftp.ebi.ac.uk/pub/databases/Rfam/14.1/fasta_files/RF02543.fa.gz\n",
      "           => «./newfiles/RF02543.fa.gz»\n",
      "Подключение к ftp.ebi.ac.uk (ftp.ebi.ac.uk)|193.62.192.4|:21... соединение установлено.\n",
      "Выполняется вход под именем anonymous … Выполнен вход в систему!\n",
      "==> SYST ... готово.    ==> PWD ... готово.\n",
      "==> TYPE I ... готово.  ==> CWD (1) /pub/databases/Rfam/14.1/fasta_files ... готово.\n",
      "==> SIZE RF02543.fa.gz ... 10087006\n",
      "==> PASV ... готово.    ==> RETR RF02543.fa.gz ... готово.\n",
      "Размер (байт): 10087006 (9,6M) (не достоверно)\n",
      "\n",
      "RF02543.fa.gz       100%[===================>]   9,62M  1,20MB/s    за 8,3s    \n",
      "\n",
      "2019-05-04 18:04:43 (1,16 MB/s) - «./newfiles/RF02543.fa.gz» сохранён [10087006]\n",
      "\n",
      "ЗАВЕРШЕНО --2019-05-04 18:04:43--\n",
      "Общее время: 18s\n",
      "Загружено: 10 файлов, 9,7M за 8,4s (1,15 MB/s)\n"
     ]
    }
   ],
   "source": [
    "with open(\"files_to_download.txt\", 'w') as out:\n",
    "    for num in numbers:\n",
    "        out.write('ftp://ftp.ebi.ac.uk/pub/databases/Rfam/14.1/fasta_files/RF' + ((5 - len(str(num))) * '0' + str(num)) + '.fa.gz' + '\\n')\n",
    "! wget -i \"files_to_download.txt\" -P \"./newfiles/\""
   ]
  },
  {
   "cell_type": "markdown",
   "metadata": {},
   "source": [
    "##### Unpacking and deleting archives"
   ]
  },
  {
   "cell_type": "code",
   "execution_count": 119,
   "metadata": {},
   "outputs": [],
   "source": [
    "os.chdir(\"./newfiles/\")\n",
    "! gunzip *.gz"
   ]
  },
  {
   "cell_type": "markdown",
   "metadata": {},
   "source": [
    "\n"
   ]
  },
  {
   "cell_type": "markdown",
   "metadata": {},
   "source": [
    "##### Here we determine the number of seq form each family (<=5); in case FOR 10 FAMILIES"
   ]
  },
  {
   "cell_type": "code",
   "execution_count": 122,
   "metadata": {},
   "outputs": [],
   "source": [
    "! grep -c \"^>\" *.fa >> number_of_seqs.txt\n",
    "with open(\"number_of_seqs.txt\", 'r') as fname:\n",
    "    num_of_seq = []\n",
    "    for num in fname:\n",
    "        num_of_seq.append(int(num.strip().split(\":\")[1]))\n",
    "    need_num = min(num_of_seq) if min(num_of_seq) <= 5 else 5"
   ]
  },
  {
   "cell_type": "code",
   "execution_count": 123,
   "metadata": {},
   "outputs": [
    {
     "data": {
      "text/plain": [
       "5"
      ]
     },
     "execution_count": 123,
     "metadata": {},
     "output_type": "execute_result"
    }
   ],
   "source": [
    "need_num"
   ]
  },
  {
   "cell_type": "markdown",
   "metadata": {},
   "source": [
    "##### Now we make our sample :) WITH UNIQUE-CHECKER"
   ]
  },
  {
   "cell_type": "code",
   "execution_count": 143,
   "metadata": {},
   "outputs": [],
   "source": [
    "'''\n",
    "If there're ununique values, we'll reduce our sample\n",
    "So, please, check proportion of families in sample.fasta\n",
    "'''\n",
    "# need_num\n",
    "# >RNU6-511P_ENSG00000200366.1,0\n",
    "import glob\n",
    "from random import sample\n",
    "from Bio import SeqIO\n",
    "\n",
    "out = open(\"sample.fasta\", 'a')\n",
    "fam_name = 0\n",
    "\n",
    "for file in glob.glob(\"./*.fa\"):\n",
    "    fam = file[2:-3]\n",
    "    #record = SeqIO.to_dict(SeqIO.parse(file, \"fasta\"))\n",
    "    record, seq_check = {}, []\n",
    "    for rec in SeqIO.parse(file, \"fasta\"):\n",
    "        #print(rec.id, rec.seq)\n",
    "        if rec.id not in record and str(rec.seq) not in seq_check:\n",
    "            record[rec.id] = str(rec.seq)\n",
    "            seq_check.append(str(rec.seq))\n",
    "        #print(record)\n",
    "    \n",
    "    if need_num > len(record):\n",
    "        end = len(record)\n",
    "    else:\n",
    "        end = need_num\n",
    "        \n",
    "    sp = random.sample(record.keys(), end)\n",
    "    \n",
    "    for seq_name in sp:\n",
    "        out.write(\">\" + fam + \"_\" + str(seq_name).split(\"/\")[0] + \",\" + str(fam_name) + '\\n')\n",
    "        out.write(str(record[seq_name]) + '\\n')\n",
    "    fam_name += 1\n",
    "    \n",
    "out.close()"
   ]
  },
  {
   "cell_type": "code",
   "execution_count": 157,
   "metadata": {},
   "outputs": [],
   "source": [
    "! grep -c \",10\" sample.fasta >> HOWMUCHFAM.txt"
   ]
  },
  {
   "cell_type": "code",
   "execution_count": 94,
   "metadata": {},
   "outputs": [
    {
     "name": "stdout",
     "output_type": "stream",
     "text": [
      "40\r\n"
     ]
    }
   ],
   "source": [
    "! grep -c \"^>\" sample.fasta"
   ]
  },
  {
   "cell_type": "markdown",
   "metadata": {},
   "source": [
    "##### Making genelabel file"
   ]
  },
  {
   "cell_type": "code",
   "execution_count": 158,
   "metadata": {},
   "outputs": [],
   "source": [
    "from Bio import SeqIO\n",
    "with open(\"genelabel_sample.txt\", 'a') as out:\n",
    "    for record in SeqIO.parse(\"sample.fasta\", \"fasta\"):\n",
    "        iden = str(record.id).split(\",\")\n",
    "        out.write(iden[0] + \":\" + iden[1] + '\\n')"
   ]
  },
  {
   "cell_type": "code",
   "execution_count": 159,
   "metadata": {},
   "outputs": [
    {
     "name": "stdout",
     "output_type": "stream",
     "text": [
      "50\r\n"
     ]
    }
   ],
   "source": [
    "! grep -c \":\" genelabel_sample.txt"
   ]
  },
  {
   "cell_type": "code",
   "execution_count": null,
   "metadata": {},
   "outputs": [],
   "source": []
  }
 ],
 "metadata": {
  "kernelspec": {
   "display_name": "Python 3",
   "language": "python",
   "name": "python3"
  },
  "language_info": {
   "codemirror_mode": {
    "name": "ipython",
    "version": 3
   },
   "file_extension": ".py",
   "mimetype": "text/x-python",
   "name": "python",
   "nbconvert_exporter": "python",
   "pygments_lexer": "ipython3",
   "version": "3.6.5"
  }
 },
 "nbformat": 4,
 "nbformat_minor": 2
}
